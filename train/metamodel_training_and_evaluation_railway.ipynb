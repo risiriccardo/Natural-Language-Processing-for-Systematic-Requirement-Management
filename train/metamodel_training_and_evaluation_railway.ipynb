{
 "cells": [
  {
   "cell_type": "markdown",
   "metadata": {
    "id": "-ZDSi-5v-K4S"
   },
   "source": [
    "# Models Training and Evaluation - Railway\n"
   ]
  },
  {
   "cell_type": "markdown",
   "metadata": {
    "id": "dZyWDIGNJDHV"
   },
   "source": [
    "## Data preprocessing"
   ]
  },
  {
   "cell_type": "code",
   "execution_count": 1,
   "metadata": {
    "colab": {
     "base_uri": "https://localhost:8080/"
    },
    "id": "acQyWybMPDDd",
    "outputId": "c90b26f8-2b16-4902-e9bc-72f5ae5e09d8"
   },
   "outputs": [
    {
     "name": "stderr",
     "output_type": "stream",
     "text": [
      "[nltk_data] Downloading package punkt to /home/riccardo/nltk_data...\n",
      "[nltk_data]   Package punkt is already up-to-date!\n"
     ]
    }
   ],
   "source": [
    "import numpy as np\n",
    "import pandas as pd\n",
    "import nltk\n",
    "from nltk.tokenize import word_tokenize\n",
    "nltk.download('punkt')\n",
    "import csv\n",
    "import re\n",
    "import os\n",
    "from sklearn.metrics import confusion_matrix\n",
    "import seaborn as sns\n",
    "import matplotlib.pyplot as plt\n",
    "import pandas as pd\n",
    "from sklearn import metrics\n",
    "import itertools"
   ]
  },
  {
   "cell_type": "code",
   "execution_count": 2,
   "metadata": {
    "id": "dELYGkWOI5_l"
   },
   "outputs": [],
   "source": [
    "# Importing the dataset\n",
    "file_path = os.path.join(\"..\", \"input\", \"dataset_eng_cleaned.csv\")\n",
    "\n",
    "df = pd.read_csv(file_path, index_col = 0, names=[\"text\", \"label\"])\n",
    "\n",
    "# Defining a function to perform data cleaning\n",
    "def clean_text(text):\n",
    "    # 1) Removing punctuation and special characters\n",
    "    text = re.sub(r'[^\\w\\s]', '', text)\n",
    "    # 2) Getting rid of numbers\n",
    "    text = re.sub(r'\\d+', '', text)\n",
    "    # 3) Removing words which have 2 or less letters\n",
    "    text = ' '.join([word for word in text.split() if len(word) > 2])\n",
    "    # 4) Making text lowercase\n",
    "    return text.lower()\n",
    "\n",
    "# Applying the function to the text column\n",
    "df[\"text\"] = df[\"text\"].apply(clean_text)"
   ]
  },
  {
   "cell_type": "code",
   "execution_count": 3,
   "metadata": {
    "scrolled": true
   },
   "outputs": [
    {
     "data": {
      "text/html": [
       "<div>\n",
       "<style scoped>\n",
       "    .dataframe tbody tr th:only-of-type {\n",
       "        vertical-align: middle;\n",
       "    }\n",
       "\n",
       "    .dataframe tbody tr th {\n",
       "        vertical-align: top;\n",
       "    }\n",
       "\n",
       "    .dataframe thead th {\n",
       "        text-align: right;\n",
       "    }\n",
       "</style>\n",
       "<table border=\"1\" class=\"dataframe\">\n",
       "  <thead>\n",
       "    <tr style=\"text-align: right;\">\n",
       "      <th></th>\n",
       "      <th>text</th>\n",
       "      <th>label</th>\n",
       "    </tr>\n",
       "  </thead>\n",
       "  <tbody>\n",
       "    <tr>\n",
       "      <th>UsNB_SOM2_DOC1_0012</th>\n",
       "      <td>technological refresh the som which involveso ...</td>\n",
       "      <td>1</td>\n",
       "    </tr>\n",
       "    <tr>\n",
       "      <th>UsNB_SOM2_DOC1_0013</th>\n",
       "      <td>creation second server room the san donato sit...</td>\n",
       "      <td>1</td>\n",
       "    </tr>\n",
       "    <tr>\n",
       "      <th>UsNB_SOM2_DOC1_0014</th>\n",
       "      <td>creation second operations room disaster recov...</td>\n",
       "      <td>1</td>\n",
       "    </tr>\n",
       "    <tr>\n",
       "      <th>UsNB_SOM2_DOC1_0015</th>\n",
       "      <td>porting the alstom software onto the new alsto...</td>\n",
       "      <td>1</td>\n",
       "    </tr>\n",
       "    <tr>\n",
       "      <th>UsNB_SOM2_DOC1_0016</th>\n",
       "      <td>moving replacing software telex rich client</td>\n",
       "      <td>1</td>\n",
       "    </tr>\n",
       "  </tbody>\n",
       "</table>\n",
       "</div>"
      ],
      "text/plain": [
       "                                                                  text  label\n",
       "UsNB_SOM2_DOC1_0012  technological refresh the som which involveso ...      1\n",
       "UsNB_SOM2_DOC1_0013  creation second server room the san donato sit...      1\n",
       "UsNB_SOM2_DOC1_0014  creation second operations room disaster recov...      1\n",
       "UsNB_SOM2_DOC1_0015  porting the alstom software onto the new alsto...      1\n",
       "UsNB_SOM2_DOC1_0016        moving replacing software telex rich client      1"
      ]
     },
     "execution_count": 3,
     "metadata": {},
     "output_type": "execute_result"
    }
   ],
   "source": [
    "df.head()"
   ]
  },
  {
   "cell_type": "code",
   "execution_count": 4,
   "metadata": {},
   "outputs": [],
   "source": [
    "requirement_words = [\n",
    "    'must', 'shall', 'should', 'need', 'require', 'necessary',\n",
    "    'obligated', 'mandatory', 'compulsory', 'demanded', 'essential',\n",
    "    'prerequisite', 'prerequisites', 'precondition', 'condition', 'necessary', 'needful',\n",
    "    'requisite', 'requisites', 'needed', 'expected', 'necessary', 'demand', 'expectation',\n",
    "    'require', 'specification', 'guideline', 'instruction', 'necessity',\n",
    "    'stipulation', 'condition', 'request', 'necessitate', 'requirement',\n",
    "    'requirements'\n",
    "]"
   ]
  },
  {
   "cell_type": "code",
   "execution_count": 5,
   "metadata": {},
   "outputs": [],
   "source": [
    "import numpy as np\n",
    "\n",
    "def assign_custom_label(X_test, y_pred, requirement_words):\n",
    "    for i in range(X_test.shape[0]): \n",
    "        if not isinstance(X_test[i], np.ndarray):\n",
    "            words_in_sentence = set(np.flatnonzero(X_test[i].toarray()))  \n",
    "        else:\n",
    "            words_in_sentence = set(np.flatnonzero(X_test[i]))\n",
    "        for word in requirement_words:\n",
    "            if word in words_in_sentence:\n",
    "                y_pred[i] = 1\n",
    "                break\n",
    "    return y_pred"
   ]
  },
  {
   "cell_type": "markdown",
   "metadata": {},
   "source": [
    "## Bag of Words"
   ]
  },
  {
   "cell_type": "code",
   "execution_count": 6,
   "metadata": {},
   "outputs": [],
   "source": [
    "from sklearn.feature_extraction.text import CountVectorizer\n",
    "from sklearn.model_selection import train_test_split\n",
    "from imblearn.under_sampling import RandomUnderSampler\n",
    "\n",
    "X = df[\"text\"]\n",
    "y = df[\"label\"]\n",
    "vectorizer = CountVectorizer(stop_words='english')\n",
    "X_cv = vectorizer.fit_transform(X)\n",
    "\n",
    "# Creating custom binary features for positive indicator words\n",
    "custom_features = np.zeros((X_cv.shape[0], len(requirement_words)))\n",
    "\n",
    "for i, text in enumerate(X_cv):\n",
    "    for j, word in enumerate(requirement_words):\n",
    "        if word in df[\"text\"]:\n",
    "            custom_features[i, j] = 1\n",
    "\n",
    "# Combining the bag-of-words features with the custom features\n",
    "X_combined = np.hstack((X_cv.toarray(), custom_features))\n",
    "\n",
    "\n",
    "# Split the data into training validatoon and test sets (70-15-15)\n",
    "\n",
    "X_train, _texts, y_train, _labels = train_test_split(X_combined, y,\n",
    "                                                    random_state=42, test_size=0.3)\n",
    "X_test, _, y_test, _ = train_test_split(_texts, _labels,\n",
    "                                                    random_state=42, test_size=0.5)"
   ]
  },
  {
   "cell_type": "code",
   "execution_count": 7,
   "metadata": {},
   "outputs": [],
   "source": [
    "# Computing the class weights\n",
    "total_samples = len(y_train)\n",
    "class_0_samples = (y_train == 0).sum()\n",
    "class_1_samples = (y_train == 1).sum()\n",
    "\n",
    "weight_for_class_0 = total_samples / (2 * class_0_samples)\n",
    "weight_for_class_1 = total_samples / (2 * class_1_samples)\n",
    "\n",
    "class_weights = {0: weight_for_class_0, 1: weight_for_class_1}"
   ]
  },
  {
   "cell_type": "markdown",
   "metadata": {
    "id": "WokJ5HH64TGF"
   },
   "source": [
    "### Logistic Regression"
   ]
  },
  {
   "cell_type": "code",
   "execution_count": 8,
   "metadata": {
    "colab": {
     "base_uri": "https://localhost:8080/"
    },
    "id": "eY3AKoo_4Shc",
    "outputId": "3f46c247-507a-43e2-a2fd-d27fe25e455f"
   },
   "outputs": [
    {
     "name": "stdout",
     "output_type": "stream",
     "text": [
      "              precision    recall  f1-score   support\n",
      "\n",
      "           0       0.59      0.76      0.66       563\n",
      "           1       0.88      0.76      0.82      1268\n",
      "\n",
      "    accuracy                           0.76      1831\n",
      "   macro avg       0.73      0.76      0.74      1831\n",
      "weighted avg       0.79      0.76      0.77      1831\n",
      "\n"
     ]
    },
    {
     "name": "stderr",
     "output_type": "stream",
     "text": [
      "/home/riccardo/miniconda3/envs/alstom/lib/python3.10/site-packages/sklearn/linear_model/_sag.py:350: ConvergenceWarning: The max_iter was reached which means the coef_ did not converge\n",
      "  warnings.warn(\n"
     ]
    }
   ],
   "source": [
    "from sklearn.linear_model import LogisticRegression\n",
    "from sklearn.metrics import classification_report\n",
    "\n",
    "model_lr = LogisticRegression(class_weight = class_weights, solver='sag',\\\n",
    "                              max_iter=1000)\n",
    "\n",
    "# training the model\n",
    "model_lr.fit(X_train, y_train)\n",
    "\n",
    "# making predictions on the test data\n",
    "y_pred_lr = assign_custom_label(X_test, model_lr.predict(X_test), requirement_words)\n",
    "\n",
    "# model evaluation\n",
    "print(classification_report(y_test, y_pred_lr))"
   ]
  },
  {
   "cell_type": "code",
   "execution_count": 9,
   "metadata": {
    "colab": {
     "base_uri": "https://localhost:8080/",
     "height": 613
    },
    "id": "U4X31aoq6ep4",
    "outputId": "1dff612d-9ea4-4a99-cbc0-732ed8029669"
   },
   "outputs": [
    {
     "data": {
      "image/png": "[encoded data removed]",
      "text/plain": [
       "<Figure size 640x480 with 2 Axes>"
      ]
     },
     "metadata": {},
     "output_type": "display_data"
    }
   ],
   "source": [
    "from sklearn.metrics import confusion_matrix\n",
    "import matplotlib.pyplot as plt\n",
    "import seaborn as sns\n",
    "\n",
    "# computing the confusion matrix\n",
    "cm = confusion_matrix(y_test, y_pred_lr)\n",
    "\n",
    "# creating a heatmap\n",
    "plt.figure()\n",
    "label_names = list(model_lr.classes_)\n",
    "sns.heatmap(cm, annot=True, fmt='d', xticklabels = label_names, yticklabels = label_names)\n",
    "plt.xlabel('Predicted')\n",
    "plt.ylabel('Truth')\n",
    "plt.show()"
   ]
  },
  {
   "cell_type": "code",
   "execution_count": 10,
   "metadata": {},
   "outputs": [
    {
     "name": "stdout",
     "output_type": "stream",
     "text": [
      "Top 30 Most Important Words:\n",
      "means: -2.0542589240033613\n",
      "ertmsetcs: -1.9997668603155974\n",
      "lan: -1.9917631600570889\n",
      "equipments: 1.9384632649777351\n",
      "vii: 1.8259645421428663\n",
      "iii: 1.8203957536805908\n",
      "layout: 1.7751804716383428\n",
      "possession: -1.7211768211967766\n",
      "defines: -1.715009234127078\n",
      "utilities: -1.7017709517549653\n",
      "identify: 1.6781036943661922\n",
      "sqm: 1.6710448300465572\n",
      "gpp: 1.6305865072817347\n",
      "note: -1.6059426104703396\n",
      "visual: 1.6014870996009967\n",
      "guidelines: -1.5919669417437594\n",
      "basis: -1.5683047567984976\n",
      "develop: 1.5616879728627908\n",
      "packet: 1.52843796170913\n",
      "indications: -1.5006916730609237\n",
      "all_: 1.4930931621255614\n",
      "indication: 1.4721815603007848\n",
      "arrangement: 1.4669031698127082\n",
      "days: 1.4654242243546343\n",
      "tested: 1.4601753950906755\n",
      "rfi: -1.4515131996462265\n",
      "general: -1.4514804039844504\n",
      "pis: 1.4485294656653471\n",
      "width: 1.4390346298143388\n",
      "emi: 1.4341324794447476\n"
     ]
    }
   ],
   "source": [
    "# Geting the coefficients from the trained linear model\n",
    "coefficients = model_lr.coef_[0]\n",
    "\n",
    "# Geting the list of words (features) from the CountVectorizer\n",
    "words = vectorizer.get_feature_names_out()\n",
    "\n",
    "# Creating a list of (word, coefficient) pairs and sort them based on the absolute coefficient values\n",
    "word_coefficient_pairs = list(zip(words, coefficients))\n",
    "word_coefficient_pairs.sort(key=lambda x: abs(x[1]), reverse=True)\n",
    "\n",
    "# Printing the top 30 most important words\n",
    "print(\"Top 30 Most Important Words:\")\n",
    "for word, coefficient in word_coefficient_pairs[:30]:\n",
    "    print(f\"{word}: {coefficient}\")"
   ]
  },
  {
   "cell_type": "markdown",
   "metadata": {},
   "source": [
    "### SVM"
   ]
  },
  {
   "cell_type": "code",
   "execution_count": 11,
   "metadata": {},
   "outputs": [
    {
     "name": "stdout",
     "output_type": "stream",
     "text": [
      "Support Vector Machine (SVM) Results:\n",
      "              precision    recall  f1-score   support\n",
      "\n",
      "           0       0.59      0.72      0.65       563\n",
      "           1       0.86      0.78      0.82      1268\n",
      "\n",
      "    accuracy                           0.76      1831\n",
      "   macro avg       0.73      0.75      0.73      1831\n",
      "weighted avg       0.78      0.76      0.77      1831\n",
      "\n"
     ]
    },
    {
     "name": "stderr",
     "output_type": "stream",
     "text": [
      "/home/riccardo/miniconda3/envs/alstom/lib/python3.10/site-packages/sklearn/svm/_base.py:1244: ConvergenceWarning: Liblinear failed to converge, increase the number of iterations.\n",
      "  warnings.warn(\n"
     ]
    }
   ],
   "source": [
    "from sklearn.svm import LinearSVC\n",
    "from sklearn.metrics import classification_report\n",
    "\n",
    "svm_model = LinearSVC(class_weight = class_weights)\n",
    "\n",
    "svm_model.fit(X_train, y_train)\n",
    "\n",
    "# Making predictions on the test data\n",
    "y_pred_svm = assign_custom_label(X_test, svm_model.predict(X_test), requirement_words)\n",
    "\n",
    "# Model evaluation\n",
    "print(\"Support Vector Machine (SVM) Results:\")\n",
    "print(classification_report(y_test, y_pred_svm))"
   ]
  },
  {
   "cell_type": "code",
   "execution_count": 12,
   "metadata": {},
   "outputs": [
    {
     "data": {
      "image/png": "[encoded data removed]",
      "text/plain": [
       "<Figure size 640x480 with 2 Axes>"
      ]
     },
     "metadata": {},
     "output_type": "display_data"
    }
   ],
   "source": [
    "# computing the confusion matrix\n",
    "cm = confusion_matrix(y_test, y_pred_svm)\n",
    "\n",
    "# creating a heatmap\n",
    "plt.figure()\n",
    "label_names = list(svm_model.classes_)\n",
    "sns.heatmap(cm, annot=True, fmt='d', xticklabels = label_names, yticklabels = label_names)\n",
    "plt.xlabel('Predicted')\n",
    "plt.ylabel('Truth')\n",
    "plt.show()"
   ]
  },
  {
   "cell_type": "code",
   "execution_count": 13,
   "metadata": {},
   "outputs": [
    {
     "name": "stdout",
     "output_type": "stream",
     "text": [
      "Top 30 Most Important Words:\n",
      "fuel: -2.196665591748467\n",
      "possession: -1.9731234456951854\n",
      "describes: -1.7935169292124955\n",
      "satisfying: -1.731117690611696\n",
      "congestion: 1.69239024550556\n",
      "implementing: -1.6814382834393857\n",
      "occlocal: -1.6329255565625622\n",
      "equipmentproduct: -1.5691991279143198\n",
      "appendixn: -1.5685111233747193\n",
      "basis: -1.543340648038907\n",
      "optic: 1.5332333631603012\n",
      "vii: 1.5274966204156775\n",
      "approx: -1.5077531717128128\n",
      "means: -1.507624060380517\n",
      "guidelines: -1.4851238835074962\n",
      "days: 1.4751551929193154\n",
      "identifies: 1.4554345304222898\n",
      "identify: 1.4518831278086564\n",
      "systematic: -1.4307578488010415\n",
      "cross: 1.4294802432103872\n",
      "switches: 1.4230090199776968\n",
      "ues: 1.4173309237975733\n",
      "develop: 1.4127514145576874\n",
      "impact: 1.3968247099716407\n",
      "fall: 1.389523324462977\n",
      "milestones: 1.38877392622683\n",
      "lan: -1.3847653358010295\n",
      "gpp: 1.375117333772448\n",
      "demarcation: 1.371145961378891\n",
      "seek: -1.3615245980624395\n"
     ]
    }
   ],
   "source": [
    "# Geting the coefficients from the trained linear model\n",
    "coefficients = svm_model.coef_[0]\n",
    "\n",
    "# Geting the list of words (features) from the CountVectorizer\n",
    "words = vectorizer.get_feature_names_out()\n",
    "\n",
    "# Creating a list of (word, coefficient) pairs and sort them based on the absolute coefficient values\n",
    "word_coefficient_pairs = list(zip(words, coefficients))\n",
    "word_coefficient_pairs.sort(key=lambda x: abs(x[1]), reverse=True)\n",
    "\n",
    "# Printing the top 30 most important words\n",
    "print(\"Top 30 Most Important Words:\")\n",
    "for word, coefficient in word_coefficient_pairs[:30]:\n",
    "    print(f\"{word}: {coefficient}\")"
   ]
  },
  {
   "cell_type": "markdown",
   "metadata": {},
   "source": [
    "### Random Forest"
   ]
  },
  {
   "cell_type": "code",
   "execution_count": 14,
   "metadata": {},
   "outputs": [
    {
     "name": "stdout",
     "output_type": "stream",
     "text": [
      "Random Forest Classifier Results:\n",
      "              precision    recall  f1-score   support\n",
      "\n",
      "           0       0.69      0.64      0.66       563\n",
      "           1       0.84      0.87      0.86      1268\n",
      "\n",
      "    accuracy                           0.80      1831\n",
      "   macro avg       0.77      0.75      0.76      1831\n",
      "weighted avg       0.80      0.80      0.80      1831\n",
      "\n"
     ]
    }
   ],
   "source": [
    "from sklearn.ensemble import RandomForestClassifier\n",
    "from sklearn.metrics import classification_report\n",
    "\n",
    "# Creating and train the Random Forest classifier\n",
    "rf_model = RandomForestClassifier(class_weight = class_weights, \\\n",
    "                                  n_estimators=100, random_state=42)\n",
    "rf_model.fit(X_train, y_train)\n",
    "\n",
    "# Making predictions on the test data\n",
    "y_pred_rf = assign_custom_label(X_test, rf_model.predict(X_test), requirement_words)\n",
    "\n",
    "# Model evaluation\n",
    "print(\"Random Forest Classifier Results:\")\n",
    "print(classification_report(y_test, y_pred_rf))"
   ]
  },
  {
   "cell_type": "code",
   "execution_count": 15,
   "metadata": {},
   "outputs": [
    {
     "data": {
      "image/png": "[encoded data removed]",
      "text/plain": [
       "<Figure size 640x480 with 2 Axes>"
      ]
     },
     "metadata": {},
     "output_type": "display_data"
    }
   ],
   "source": [
    "# computing the confusion matrix\n",
    "cm = confusion_matrix(y_test, y_pred_rf)\n",
    "\n",
    "# creating a heatmap\n",
    "plt.figure()\n",
    "label_names = list(rf_model.classes_)\n",
    "sns.heatmap(cm, annot=True, fmt='d', xticklabels = label_names, yticklabels = label_names)\n",
    "plt.xlabel('Predicted')\n",
    "plt.ylabel('Truth')\n",
    "plt.show()"
   ]
  },
  {
   "cell_type": "code",
   "execution_count": 16,
   "metadata": {},
   "outputs": [
    {
     "name": "stdout",
     "output_type": "stream",
     "text": [
      "Top 30 Most Important Words:\n",
      "shall: 0.05679498323720277\n",
      "contractor: 0.009120273391951062\n",
      "train: 0.006680651995991883\n",
      "provide: 0.006186937191373501\n",
      "general: 0.0057515046575623285\n",
      "equipment: 0.005146511247690706\n",
      "including: 0.005005796010591903\n",
      "following: 0.004983797770718136\n",
      "ertmsetcs: 0.004907634220450651\n",
      "test: 0.004591266157594303\n",
      "required: 0.004224270394536648\n",
      "design: 0.004116066641699868\n",
      "point: 0.0036378527627688832\n",
      "support: 0.003567657373348203\n",
      "tests: 0.0034546829150301998\n",
      "iii: 0.0033675952416917054\n",
      "requirements: 0.003213687918591793\n",
      "used: 0.003141208024208399\n",
      "management: 0.003129278044976706\n",
      "time: 0.0030974269431719727\n",
      "employers: 0.0030664055896172365\n",
      "control: 0.0028829886215726245\n",
      "signal: 0.002866979649533763\n",
      "number: 0.0027680066178682127\n",
      "minimum: 0.002742213761268984\n",
      "submit: 0.002729044316422218\n",
      "include: 0.002620898085899146\n",
      "information: 0.002592437385717582\n",
      "door: 0.002544791834857432\n",
      "station: 0.0025299405936838036\n"
     ]
    }
   ],
   "source": [
    "# Geting the feature importances from the trained Random Forest model\n",
    "feature_importances = rf_model.feature_importances_\n",
    "\n",
    "# Geting the list of words (features) from the CountVectorizer\n",
    "words = vectorizer.get_feature_names_out()\n",
    "\n",
    "# Creating a list of (word, importance) pairs and sort them based on the importance values\n",
    "word_importance_pairs = list(zip(words, feature_importances))\n",
    "word_importance_pairs.sort(key=lambda x: x[1], reverse=True)\n",
    "\n",
    "# Printing the top 30 most important words\n",
    "print(\"Top 30 Most Important Words:\")\n",
    "for word, importance in word_importance_pairs[:30]:\n",
    "    print(f\"{word}: {importance}\")"
   ]
  },
  {
   "cell_type": "markdown",
   "metadata": {},
   "source": [
    "### Multinomial Naive Bayes"
   ]
  },
  {
   "cell_type": "code",
   "execution_count": 17,
   "metadata": {},
   "outputs": [
    {
     "name": "stdout",
     "output_type": "stream",
     "text": [
      "Multinomial Naive Bayes Results:\n",
      "              precision    recall  f1-score   support\n",
      "\n",
      "           0       0.64      0.58      0.61       563\n",
      "           1       0.82      0.85      0.84      1268\n",
      "\n",
      "    accuracy                           0.77      1831\n",
      "   macro avg       0.73      0.72      0.72      1831\n",
      "weighted avg       0.76      0.77      0.77      1831\n",
      "\n"
     ]
    }
   ],
   "source": [
    "from sklearn.naive_bayes import MultinomialNB\n",
    "from sklearn.metrics import classification_report\n",
    "\n",
    "# Calculating sample weights based on class distribution\n",
    "sample_weights = np.where(y_train == 0, weight_for_class_0, weight_for_class_1)\n",
    "\n",
    "# Creating and training the Naive Bayes classifier with sample weights\n",
    "nb_model = MultinomialNB()\n",
    "nb_model.fit(X_train, y_train, sample_weight=sample_weights)\n",
    "\n",
    "# Making predictions on the test data\n",
    "y_pred_nb = assign_custom_label(X_test, nb_model.predict(X_test), requirement_words)\n",
    "\n",
    "# Model evaluation\n",
    "print(\"Multinomial Naive Bayes Results:\")\n",
    "print(classification_report(y_test, y_pred_nb))"
   ]
  },
  {
   "cell_type": "code",
   "execution_count": 18,
   "metadata": {},
   "outputs": [
    {
     "data": {
      "image/png": "[encoded data removed]",
      "text/plain": [
       "<Figure size 640x480 with 2 Axes>"
      ]
     },
     "metadata": {},
     "output_type": "display_data"
    }
   ],
   "source": [
    "# computing the confusion matrix\n",
    "cm = confusion_matrix(y_test, y_pred_nb)\n",
    "\n",
    "# creating a heatmap\n",
    "plt.figure()\n",
    "label_names = list(nb_model.classes_)\n",
    "sns.heatmap(cm, annot=True, fmt='d', xticklabels = label_names, yticklabels = label_names)\n",
    "plt.xlabel('Predicted')\n",
    "plt.ylabel('Truth')\n",
    "plt.show()"
   ]
  },
  {
   "cell_type": "markdown",
   "metadata": {},
   "source": [
    "### Metamodel: voting classifier"
   ]
  },
  {
   "cell_type": "code",
   "execution_count": 20,
   "metadata": {},
   "outputs": [
    {
     "name": "stderr",
     "output_type": "stream",
     "text": [
      "/home/riccardo/miniconda3/envs/alstom/lib/python3.10/site-packages/sklearn/linear_model/_sag.py:350: ConvergenceWarning: The max_iter was reached which means the coef_ did not converge\n",
      "  warnings.warn(\n",
      "/home/riccardo/miniconda3/envs/alstom/lib/python3.10/site-packages/sklearn/svm/_base.py:1244: ConvergenceWarning: Liblinear failed to converge, increase the number of iterations.\n",
      "  warnings.warn(\n"
     ]
    },
    {
     "data": {
      "text/html": [
       "<style>#sk-container-id-1 {color: black;background-color: white;}#sk-container-id-1 pre{padding: 0;}#sk-container-id-1 div.sk-toggleable {background-color: white;}#sk-container-id-1 label.sk-toggleable__label {cursor: pointer;display: block;width: 100%;margin-bottom: 0;padding: 0.3em;box-sizing: border-box;text-align: center;}#sk-container-id-1 label.sk-toggleable__label-arrow:before {content: \"▸\";float: left;margin-right: 0.25em;color: #696969;}#sk-container-id-1 label.sk-toggleable__label-arrow:hover:before {color: black;}#sk-container-id-1 div.sk-estimator:hover label.sk-toggleable__label-arrow:before {color: black;}#sk-container-id-1 div.sk-toggleable__content {max-height: 0;max-width: 0;overflow: hidden;text-align: left;background-color: #f0f8ff;}#sk-container-id-1 div.sk-toggleable__content pre {margin: 0.2em;color: black;border-radius: 0.25em;background-color: #f0f8ff;}#sk-container-id-1 input.sk-toggleable__control:checked~div.sk-toggleable__content {max-height: 200px;max-width: 100%;overflow: auto;}#sk-container-id-1 input.sk-toggleable__control:checked~label.sk-toggleable__label-arrow:before {content: \"▾\";}#sk-container-id-1 div.sk-estimator input.sk-toggleable__control:checked~label.sk-toggleable__label {background-color: #d4ebff;}#sk-container-id-1 div.sk-label input.sk-toggleable__control:checked~label.sk-toggleable__label {background-color: #d4ebff;}#sk-container-id-1 input.sk-hidden--visually {border: 0;clip: rect(1px 1px 1px 1px);clip: rect(1px, 1px, 1px, 1px);height: 1px;margin: -1px;overflow: hidden;padding: 0;position: absolute;width: 1px;}#sk-container-id-1 div.sk-estimator {font-family: monospace;background-color: #f0f8ff;border: 1px dotted black;border-radius: 0.25em;box-sizing: border-box;margin-bottom: 0.5em;}#sk-container-id-1 div.sk-estimator:hover {background-color: #d4ebff;}#sk-container-id-1 div.sk-parallel-item::after {content: \"\";width: 100%;border-bottom: 1px solid gray;flex-grow: 1;}#sk-container-id-1 div.sk-label:hover label.sk-toggleable__label {background-color: #d4ebff;}#sk-container-id-1 div.sk-serial::before {content: \"\";position: absolute;border-left: 1px solid gray;box-sizing: border-box;top: 0;bottom: 0;left: 50%;z-index: 0;}#sk-container-id-1 div.sk-serial {display: flex;flex-direction: column;align-items: center;background-color: white;padding-right: 0.2em;padding-left: 0.2em;position: relative;}#sk-container-id-1 div.sk-item {position: relative;z-index: 1;}#sk-container-id-1 div.sk-parallel {display: flex;align-items: stretch;justify-content: center;background-color: white;position: relative;}#sk-container-id-1 div.sk-item::before, #sk-container-id-1 div.sk-parallel-item::before {content: \"\";position: absolute;border-left: 1px solid gray;box-sizing: border-box;top: 0;bottom: 0;left: 50%;z-index: -1;}#sk-container-id-1 div.sk-parallel-item {display: flex;flex-direction: column;z-index: 1;position: relative;background-color: white;}#sk-container-id-1 div.sk-parallel-item:first-child::after {align-self: flex-end;width: 50%;}#sk-container-id-1 div.sk-parallel-item:last-child::after {align-self: flex-start;width: 50%;}#sk-container-id-1 div.sk-parallel-item:only-child::after {width: 0;}#sk-container-id-1 div.sk-dashed-wrapped {border: 1px dashed gray;margin: 0 0.4em 0.5em 0.4em;box-sizing: border-box;padding-bottom: 0.4em;background-color: white;}#sk-container-id-1 div.sk-label label {font-family: monospace;font-weight: bold;display: inline-block;line-height: 1.2em;}#sk-container-id-1 div.sk-label-container {text-align: center;}#sk-container-id-1 div.sk-container {/* jupyter's `normalize.less` sets `[hidden] { display: none; }` but bootstrap.min.css set `[hidden] { display: none !important; }` so we also need the `!important` here to be able to override the default hidden behavior on the sphinx rendered scikit-learn.org. See: https://github.com/scikit-learn/scikit-learn/issues/21755 */display: inline-block !important;position: relative;}#sk-container-id-1 div.sk-text-repr-fallback {display: none;}</style><div id=\"sk-container-id-1\" class=\"sk-top-container\"><div class=\"sk-text-repr-fallback\"><pre>VotingClassifier(estimators=[(&#x27;logistic_regression&#x27;,\n",
       "                              LogisticRegression(class_weight={0: 1.6834844304296412,\n",
       "                                                               1: 0.711240632805995},\n",
       "                                                 max_iter=1000, solver=&#x27;sag&#x27;)),\n",
       "                             (&#x27;support_vector_machines&#x27;,\n",
       "                              LinearSVC(class_weight={0: 1.6834844304296412,\n",
       "                                                      1: 0.711240632805995})),\n",
       "                             (&#x27;random_forest&#x27;,\n",
       "                              RandomForestClassifier(class_weight={0: 1.6834844304296412,\n",
       "                                                                   1: 0.711240632805995},\n",
       "                                                     random_state=42)),\n",
       "                             (&#x27;multinomial_naive_bayes&#x27;, MultinomialNB())])</pre><b>In a Jupyter environment, please rerun this cell to show the HTML representation or trust the notebook. <br />On GitHub, the HTML representation is unable to render, please try loading this page with nbviewer.org.</b></div><div class=\"sk-container\" hidden><div class=\"sk-item sk-dashed-wrapped\"><div class=\"sk-label-container\"><div class=\"sk-label sk-toggleable\"><input class=\"sk-toggleable__control sk-hidden--visually\" id=\"sk-estimator-id-1\" type=\"checkbox\" ><label for=\"sk-estimator-id-1\" class=\"sk-toggleable__label sk-toggleable__label-arrow\">VotingClassifier</label><div class=\"sk-toggleable__content\"><pre>VotingClassifier(estimators=[(&#x27;logistic_regression&#x27;,\n",
       "                              LogisticRegression(class_weight={0: 1.6834844304296412,\n",
       "                                                               1: 0.711240632805995},\n",
       "                                                 max_iter=1000, solver=&#x27;sag&#x27;)),\n",
       "                             (&#x27;support_vector_machines&#x27;,\n",
       "                              LinearSVC(class_weight={0: 1.6834844304296412,\n",
       "                                                      1: 0.711240632805995})),\n",
       "                             (&#x27;random_forest&#x27;,\n",
       "                              RandomForestClassifier(class_weight={0: 1.6834844304296412,\n",
       "                                                                   1: 0.711240632805995},\n",
       "                                                     random_state=42)),\n",
       "                             (&#x27;multinomial_naive_bayes&#x27;, MultinomialNB())])</pre></div></div></div><div class=\"sk-parallel\"><div class=\"sk-parallel-item\"><div class=\"sk-item\"><div class=\"sk-label-container\"><div class=\"sk-label sk-toggleable\"><label>logistic_regression</label></div></div><div class=\"sk-serial\"><div class=\"sk-item\"><div class=\"sk-estimator sk-toggleable\"><input class=\"sk-toggleable__control sk-hidden--visually\" id=\"sk-estimator-id-2\" type=\"checkbox\" ><label for=\"sk-estimator-id-2\" class=\"sk-toggleable__label sk-toggleable__label-arrow\">LogisticRegression</label><div class=\"sk-toggleable__content\"><pre>LogisticRegression(class_weight={0: 1.6834844304296412, 1: 0.711240632805995},\n",
       "                   max_iter=1000, solver=&#x27;sag&#x27;)</pre></div></div></div></div></div></div><div class=\"sk-parallel-item\"><div class=\"sk-item\"><div class=\"sk-label-container\"><div class=\"sk-label sk-toggleable\"><label>support_vector_machines</label></div></div><div class=\"sk-serial\"><div class=\"sk-item\"><div class=\"sk-estimator sk-toggleable\"><input class=\"sk-toggleable__control sk-hidden--visually\" id=\"sk-estimator-id-3\" type=\"checkbox\" ><label for=\"sk-estimator-id-3\" class=\"sk-toggleable__label sk-toggleable__label-arrow\">LinearSVC</label><div class=\"sk-toggleable__content\"><pre>LinearSVC(class_weight={0: 1.6834844304296412, 1: 0.711240632805995})</pre></div></div></div></div></div></div><div class=\"sk-parallel-item\"><div class=\"sk-item\"><div class=\"sk-label-container\"><div class=\"sk-label sk-toggleable\"><label>random_forest</label></div></div><div class=\"sk-serial\"><div class=\"sk-item\"><div class=\"sk-estimator sk-toggleable\"><input class=\"sk-toggleable__control sk-hidden--visually\" id=\"sk-estimator-id-4\" type=\"checkbox\" ><label for=\"sk-estimator-id-4\" class=\"sk-toggleable__label sk-toggleable__label-arrow\">RandomForestClassifier</label><div class=\"sk-toggleable__content\"><pre>RandomForestClassifier(class_weight={0: 1.6834844304296412,\n",
       "                                     1: 0.711240632805995},\n",
       "                       random_state=42)</pre></div></div></div></div></div></div><div class=\"sk-parallel-item\"><div class=\"sk-item\"><div class=\"sk-label-container\"><div class=\"sk-label sk-toggleable\"><label>multinomial_naive_bayes</label></div></div><div class=\"sk-serial\"><div class=\"sk-item\"><div class=\"sk-estimator sk-toggleable\"><input class=\"sk-toggleable__control sk-hidden--visually\" id=\"sk-estimator-id-5\" type=\"checkbox\" ><label for=\"sk-estimator-id-5\" class=\"sk-toggleable__label sk-toggleable__label-arrow\">MultinomialNB</label><div class=\"sk-toggleable__content\"><pre>MultinomialNB()</pre></div></div></div></div></div></div></div></div></div></div>"
      ],
      "text/plain": [
       "VotingClassifier(estimators=[('logistic_regression',\n",
       "                              LogisticRegression(class_weight={0: 1.6834844304296412,\n",
       "                                                               1: 0.711240632805995},\n",
       "                                                 max_iter=1000, solver='sag')),\n",
       "                             ('support_vector_machines',\n",
       "                              LinearSVC(class_weight={0: 1.6834844304296412,\n",
       "                                                      1: 0.711240632805995})),\n",
       "                             ('random_forest',\n",
       "                              RandomForestClassifier(class_weight={0: 1.6834844304296412,\n",
       "                                                                   1: 0.711240632805995},\n",
       "                                                     random_state=42)),\n",
       "                             ('multinomial_naive_bayes', MultinomialNB())])"
      ]
     },
     "execution_count": 20,
     "metadata": {},
     "output_type": "execute_result"
    }
   ],
   "source": [
    "from sklearn.ensemble import VotingClassifier\n",
    "voting_clf = VotingClassifier(\n",
    "    estimators=[\n",
    "        ('logistic_regression', model_lr),\n",
    "        ('support_vector_machines', svm_model),\n",
    "        ('random_forest', rf_model),\n",
    "        ('multinomial_naive_bayes', nb_model),\n",
    "    ],\n",
    "    voting='hard' \n",
    ")\n",
    "\n",
    "voting_clf.fit(X_train, y_train)"
   ]
  },
  {
   "cell_type": "code",
   "execution_count": 21,
   "metadata": {},
   "outputs": [
    {
     "name": "stdout",
     "output_type": "stream",
     "text": [
      "              precision    recall  f1-score   support\n",
      "\n",
      "           0       0.61      0.75      0.67       563\n",
      "           1       0.88      0.78      0.83      1268\n",
      "\n",
      "    accuracy                           0.77      1831\n",
      "   macro avg       0.74      0.77      0.75      1831\n",
      "weighted avg       0.79      0.77      0.78      1831\n",
      "\n"
     ]
    }
   ],
   "source": [
    "# making predictions on the test data\n",
    "y_pred_voting = assign_custom_label(X_test, voting_clf.predict(X_test), requirement_words)\n",
    "\n",
    "# model evaluation\n",
    "print(classification_report(y_test, y_pred_voting))"
   ]
  },
  {
   "cell_type": "code",
   "execution_count": 22,
   "metadata": {},
   "outputs": [
    {
     "data": {
      "image/png": "[encoded data removed]",
      "text/plain": [
       "<Figure size 640x480 with 2 Axes>"
      ]
     },
     "metadata": {},
     "output_type": "display_data"
    }
   ],
   "source": [
    "# computing the confusion matrix\n",
    "cm = confusion_matrix(y_test, y_pred_voting)\n",
    "\n",
    "# creating a heatmap\n",
    "plt.figure()\n",
    "label_names = list(voting_clf.classes_)\n",
    "sns.heatmap(cm, annot=True, fmt='d', xticklabels = label_names, yticklabels = label_names)\n",
    "plt.xlabel('Predicted')\n",
    "plt.ylabel('Truth')\n",
    "plt.show()"
   ]
  },
  {
   "cell_type": "markdown",
   "metadata": {},
   "source": [
    "### Saving the Metamodel"
   ]
  },
  {
   "cell_type": "code",
   "execution_count": 23,
   "metadata": {},
   "outputs": [
    {
     "data": {
      "text/plain": [
       "['metamodel.pkl']"
      ]
     },
     "execution_count": 23,
     "metadata": {},
     "output_type": "execute_result"
    }
   ],
   "source": [
    "from joblib import dump, load\n",
    "dump(voting_clf, 'metamodel.pkl')\n",
    "# use metamodel = joblib.load('metamodel.pkl') to reuse the trained model"
   ]
  },
  {
   "cell_type": "code",
   "execution_count": null,
   "metadata": {},
   "outputs": [],
   "source": []
  }
 ],
 "metadata": {
  "colab": {
   "gpuType": "T4",
   "provenance": []
  },
  "gpuClass": "standard",
  "kernelspec": {
   "display_name": "Python 3 (ipykernel)",
   "language": "python",
   "name": "python3"
  },
  "language_info": {
   "codemirror_mode": {
    "name": "ipython",
    "version": 3
   },
   "file_extension": ".py",
   "mimetype": "text/x-python",
   "name": "python",
   "nbconvert_exporter": "python",
   "pygments_lexer": "ipython3",
   "version": "3.10.11"
  }
 },
 "nbformat": 4,
 "nbformat_minor": 1
}
