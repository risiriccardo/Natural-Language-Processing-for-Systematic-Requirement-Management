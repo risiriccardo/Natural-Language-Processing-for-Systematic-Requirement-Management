{
 "cells": [
  {
   "cell_type": "markdown",
   "metadata": {
    "id": "-ZDSi-5v-K4S"
   },
   "source": [
    "# Models Training and Evaluation"
   ]
  },
  {
   "cell_type": "markdown",
   "metadata": {
    "id": "dZyWDIGNJDHV"
   },
   "source": [
    "## Data preprocessing"
   ]
  },
  {
   "cell_type": "code",
   "execution_count": 1,
   "metadata": {
    "colab": {
     "base_uri": "https://localhost:8080/"
    },
    "id": "acQyWybMPDDd",
    "outputId": "c90b26f8-2b16-4902-e9bc-72f5ae5e09d8"
   },
   "outputs": [
    {
     "name": "stderr",
     "output_type": "stream",
     "text": [
      "[nltk_data] Downloading package punkt to /home/riccardo/nltk_data...\n",
      "[nltk_data]   Package punkt is already up-to-date!\n"
     ]
    }
   ],
   "source": [
    "import numpy as np\n",
    "import pandas as pd\n",
    "import nltk\n",
    "from nltk.tokenize import word_tokenize\n",
    "nltk.download('punkt')\n",
    "import csv\n",
    "import re\n",
    "import os\n",
    "from sklearn.metrics import confusion_matrix\n",
    "import seaborn as sns\n",
    "import matplotlib.pyplot as plt\n",
    "import pandas as pd\n",
    "from sklearn import metrics\n",
    "import itertools"
   ]
  },
  {
   "cell_type": "code",
   "execution_count": 2,
   "metadata": {
    "id": "dELYGkWOI5_l"
   },
   "outputs": [],
   "source": [
    "# Importing the dataset\n",
    "file_path = os.path.join(\"..\", \"input\", \"dataset_eng_cleaned.csv\")\n",
    "\n",
    "df = pd.read_csv(file_path, index_col = 0, names=[\"text\", \"label\"])\n",
    "\n",
    "# Defining a function to perform data cleaning\n",
    "def clean_text(text):\n",
    "    # 1) Removing punctuation and special characters\n",
    "    text = re.sub(r'[^\\w\\s]', '', text)\n",
    "    # 2) Getting rid of numbers\n",
    "    text = re.sub(r'\\d+', '', text)\n",
    "    # 3) Removing words which have 2 or less letters\n",
    "    text = ' '.join([word for word in text.split() if len(word) > 2])\n",
    "    # 4) Making text lowercase\n",
    "    return text.lower()\n",
    "\n",
    "# Applying the function to the text column\n",
    "df[\"text\"] = df[\"text\"].apply(clean_text)"
   ]
  },
  {
   "cell_type": "code",
   "execution_count": 3,
   "metadata": {
    "scrolled": true
   },
   "outputs": [
    {
     "data": {
      "text/html": [
       "<div>\n",
       "<style scoped>\n",
       "    .dataframe tbody tr th:only-of-type {\n",
       "        vertical-align: middle;\n",
       "    }\n",
       "\n",
       "    .dataframe tbody tr th {\n",
       "        vertical-align: top;\n",
       "    }\n",
       "\n",
       "    .dataframe thead th {\n",
       "        text-align: right;\n",
       "    }\n",
       "</style>\n",
       "<table border=\"1\" class=\"dataframe\">\n",
       "  <thead>\n",
       "    <tr style=\"text-align: right;\">\n",
       "      <th></th>\n",
       "      <th>text</th>\n",
       "      <th>label</th>\n",
       "    </tr>\n",
       "  </thead>\n",
       "  <tbody>\n",
       "    <tr>\n",
       "      <th>UsNB_SOM2_DOC1_0012</th>\n",
       "      <td>technological refresh the som which involveso ...</td>\n",
       "      <td>1</td>\n",
       "    </tr>\n",
       "    <tr>\n",
       "      <th>UsNB_SOM2_DOC1_0013</th>\n",
       "      <td>creation second server room the san donato sit...</td>\n",
       "      <td>1</td>\n",
       "    </tr>\n",
       "    <tr>\n",
       "      <th>UsNB_SOM2_DOC1_0014</th>\n",
       "      <td>creation second operations room disaster recov...</td>\n",
       "      <td>1</td>\n",
       "    </tr>\n",
       "    <tr>\n",
       "      <th>UsNB_SOM2_DOC1_0015</th>\n",
       "      <td>porting the alstom software onto the new alsto...</td>\n",
       "      <td>1</td>\n",
       "    </tr>\n",
       "    <tr>\n",
       "      <th>UsNB_SOM2_DOC1_0016</th>\n",
       "      <td>moving replacing software telex rich client</td>\n",
       "      <td>1</td>\n",
       "    </tr>\n",
       "  </tbody>\n",
       "</table>\n",
       "</div>"
      ],
      "text/plain": [
       "                                                                  text  label\n",
       "UsNB_SOM2_DOC1_0012  technological refresh the som which involveso ...      1\n",
       "UsNB_SOM2_DOC1_0013  creation second server room the san donato sit...      1\n",
       "UsNB_SOM2_DOC1_0014  creation second operations room disaster recov...      1\n",
       "UsNB_SOM2_DOC1_0015  porting the alstom software onto the new alsto...      1\n",
       "UsNB_SOM2_DOC1_0016        moving replacing software telex rich client      1"
      ]
     },
     "execution_count": 3,
     "metadata": {},
     "output_type": "execute_result"
    }
   ],
   "source": [
    "df.head()"
   ]
  },
  {
   "cell_type": "code",
   "execution_count": 4,
   "metadata": {},
   "outputs": [],
   "source": [
    "requirement_words = [\n",
    "    'must', 'shall', 'should', 'need', 'require', 'necessary',\n",
    "    'obligated', 'mandatory', 'compulsory', 'demanded', 'essential',\n",
    "    'prerequisite', 'prerequisites', 'precondition', 'condition', 'necessary', 'needful',\n",
    "    'requisite', 'requisites', 'needed', 'expected', 'necessary', 'demand', 'expectation',\n",
    "    'require', 'specification', 'guideline', 'instruction', 'necessity',\n",
    "    'stipulation', 'condition', 'request', 'necessitate', 'requirement',\n",
    "    'requirements'\n",
    "]"
   ]
  },
  {
   "cell_type": "code",
   "execution_count": 5,
   "metadata": {},
   "outputs": [],
   "source": [
    "import numpy as np\n",
    "\n",
    "def assign_custom_label(X_test, y_pred, requirement_words):\n",
    "    for i in range(X_test.shape[0]): \n",
    "        if not isinstance(X_test[i], np.ndarray):\n",
    "            words_in_sentence = set(np.flatnonzero(X_test[i].toarray()))  \n",
    "        else:\n",
    "            words_in_sentence = set(np.flatnonzero(X_test[i]))\n",
    "        for word in requirement_words:\n",
    "            if word in words_in_sentence:\n",
    "                y_pred[i] = 1\n",
    "                break\n",
    "    return y_pred"
   ]
  },
  {
   "cell_type": "markdown",
   "metadata": {},
   "source": [
    "## Bag of Words"
   ]
  },
  {
   "cell_type": "code",
   "execution_count": 6,
   "metadata": {},
   "outputs": [],
   "source": [
    "from sklearn.feature_extraction.text import CountVectorizer\n",
    "from sklearn.model_selection import train_test_split\n",
    "from imblearn.under_sampling import RandomUnderSampler\n",
    "\n",
    "X = df[\"text\"]\n",
    "y = df[\"label\"]\n",
    "vectorizer = CountVectorizer(stop_words='english')\n",
    "X_cv = vectorizer.fit_transform(X)\n",
    "\n",
    "# Creating custom binary features for positive indicator words\n",
    "custom_features = np.zeros((X_cv.shape[0], len(requirement_words)))\n",
    "\n",
    "for i, text in enumerate(X_cv):\n",
    "    for j, word in enumerate(requirement_words):\n",
    "        if word in df[\"text\"]:\n",
    "            custom_features[i, j] = 1\n",
    "\n",
    "# Combining the bag-of-words features with the custom features\n",
    "X_combined = np.hstack((X_cv.toarray(), custom_features))\n",
    "\n",
    "# splitting data into training and testing sets\n",
    "X_train, X_test, y_train, y_test = train_test_split(X_combined, y, \\\n",
    "                                   test_size=0.2, random_state=42)"
   ]
  },
  {
   "cell_type": "code",
   "execution_count": 7,
   "metadata": {},
   "outputs": [],
   "source": [
    "# Computing the class weights\n",
    "total_samples = len(y_train)\n",
    "class_0_samples = (y_train == 0).sum()\n",
    "class_1_samples = (y_train == 1).sum()\n",
    "\n",
    "weight_for_class_0 = total_samples / (2 * class_0_samples)\n",
    "weight_for_class_1 = total_samples / (2 * class_1_samples)\n",
    "\n",
    "class_weights = {0: weight_for_class_0, 1: weight_for_class_1}"
   ]
  },
  {
   "cell_type": "markdown",
   "metadata": {
    "id": "WokJ5HH64TGF"
   },
   "source": [
    "### Logistic Regression"
   ]
  },
  {
   "cell_type": "code",
   "execution_count": 33,
   "metadata": {
    "colab": {
     "base_uri": "https://localhost:8080/"
    },
    "id": "eY3AKoo_4Shc",
    "outputId": "3f46c247-507a-43e2-a2fd-d27fe25e455f"
   },
   "outputs": [
    {
     "name": "stdout",
     "output_type": "stream",
     "text": [
      "              precision    recall  f1-score   support\n",
      "\n",
      "           0       0.57      0.77      0.66       735\n",
      "           1       0.89      0.75      0.81      1706\n",
      "\n",
      "    accuracy                           0.76      2441\n",
      "   macro avg       0.73      0.76      0.74      2441\n",
      "weighted avg       0.79      0.76      0.77      2441\n",
      "\n"
     ]
    },
    {
     "name": "stderr",
     "output_type": "stream",
     "text": [
      "/home/riccardo/miniconda3/envs/alstom/lib/python3.10/site-packages/sklearn/linear_model/_sag.py:350: ConvergenceWarning: The max_iter was reached which means the coef_ did not converge\n",
      "  warnings.warn(\n"
     ]
    }
   ],
   "source": [
    "from sklearn.linear_model import LogisticRegression\n",
    "from sklearn.metrics import classification_report\n",
    "\n",
    "model_lr = LogisticRegression(class_weight = class_weights, solver='sag',\\\n",
    "                              max_iter=1000)\n",
    "\n",
    "# training the model\n",
    "model_lr.fit(X_train, y_train)\n",
    "\n",
    "# making predictions on the test data\n",
    "y_pred_lr = assign_custom_label(X_test, model_lr.predict(X_test), requirement_words)\n",
    "\n",
    "# model evaluation\n",
    "print(classification_report(y_test, y_pred_lr))"
   ]
  },
  {
   "cell_type": "code",
   "execution_count": 10,
   "metadata": {
    "colab": {
     "base_uri": "https://localhost:8080/",
     "height": 613
    },
    "id": "U4X31aoq6ep4",
    "outputId": "1dff612d-9ea4-4a99-cbc0-732ed8029669"
   },
   "outputs": [
    {
     "data": {
      "image/png": "[encoded data removed]",
      "text/plain": [
       "<Figure size 640x480 with 2 Axes>"
      ]
     },
     "metadata": {},
     "output_type": "display_data"
    }
   ],
   "source": [
    "from sklearn.metrics import confusion_matrix\n",
    "import matplotlib.pyplot as plt\n",
    "import seaborn as sns\n",
    "\n",
    "# computing the confusion matrix\n",
    "cm = confusion_matrix(y_test, y_pred_lr)\n",
    "\n",
    "# creating a heatmap\n",
    "plt.figure()\n",
    "label_names = list(model_lr.classes_)\n",
    "sns.heatmap(cm, annot=True, fmt='d', xticklabels = label_names, yticklabels = label_names)\n",
    "plt.xlabel('Predicted')\n",
    "plt.ylabel('Truth')\n",
    "plt.show()"
   ]
  },
  {
   "cell_type": "code",
   "execution_count": 11,
   "metadata": {},
   "outputs": [
    {
     "name": "stdout",
     "output_type": "stream",
     "text": [
      "Top 30 Most Important Words:\n",
      "vii: 2.276233134170635\n",
      "ertmsetcs: -2.0019300430614653\n",
      "means: -1.8821216586442526\n",
      "defines: -1.8738509698256947\n",
      "lan: -1.7950755467655213\n",
      "identify: 1.683165082409803\n",
      "sqm: 1.64743535710929\n",
      "develop: 1.6043401076186985\n",
      "enodeb: 1.5900294304696334\n",
      "iii: 1.5808481997574457\n",
      "utilities: -1.5377737609066682\n",
      "send: 1.532281495624372\n",
      "limitation: -1.5315978406880812\n",
      "deleted: -1.520757173076559\n",
      "cip: -1.5164257442760618\n",
      "link: 1.509533773568404\n",
      "note: -1.505305365103603\n",
      "all_: 1.5041528134672233\n",
      "visual: 1.5036390645979858\n",
      "general: -1.4768115024586514\n",
      "janus: 1.4691897902531532\n",
      "equipments: 1.433274713892894\n",
      "gpp: 1.4317085788072776\n",
      "ccs: -1.430056374431311\n",
      "rfi: -1.4258980801823014\n",
      "normal: 1.4060460549191236\n",
      "mmis: -1.4023434276026754\n",
      "emi: 1.3933190871585044\n",
      "pipes: -1.3895725358368363\n",
      "structure: 1.3860233017489771\n"
     ]
    }
   ],
   "source": [
    "# Geting the coefficients from the trained linear model\n",
    "coefficients = model_lr.coef_[0]\n",
    "\n",
    "# Geting the list of words (features) from the CountVectorizer\n",
    "words = vectorizer.get_feature_names_out()\n",
    "\n",
    "# Creating a list of (word, coefficient) pairs and sort them based on the absolute coefficient values\n",
    "word_coefficient_pairs = list(zip(words, coefficients))\n",
    "word_coefficient_pairs.sort(key=lambda x: abs(x[1]), reverse=True)\n",
    "\n",
    "# Printing the top 30 most important words\n",
    "print(\"Top 30 Most Important Words:\")\n",
    "for word, coefficient in word_coefficient_pairs[:30]:\n",
    "    print(f\"{word}: {coefficient}\")"
   ]
  },
  {
   "cell_type": "markdown",
   "metadata": {},
   "source": [
    "### SVM"
   ]
  },
  {
   "cell_type": "code",
   "execution_count": 11,
   "metadata": {},
   "outputs": [
    {
     "name": "stdout",
     "output_type": "stream",
     "text": [
      "Support Vector Machine (SVM) Results:\n",
      "              precision    recall  f1-score   support\n",
      "\n",
      "           0       0.59      0.77      0.67       735\n",
      "           1       0.89      0.77      0.82      1706\n",
      "\n",
      "    accuracy                           0.77      2441\n",
      "   macro avg       0.74      0.77      0.75      2441\n",
      "weighted avg       0.80      0.77      0.78      2441\n",
      "\n"
     ]
    },
    {
     "name": "stderr",
     "output_type": "stream",
     "text": [
      "/home/riccardo/miniconda3/envs/alstom/lib/python3.10/site-packages/sklearn/svm/_base.py:1244: ConvergenceWarning: Liblinear failed to converge, increase the number of iterations.\n",
      "  warnings.warn(\n"
     ]
    }
   ],
   "source": [
    "from sklearn.svm import LinearSVC\n",
    "from sklearn.metrics import classification_report\n",
    "\n",
    "svm_model = LinearSVC(class_weight = class_weights)\n",
    "\n",
    "svm_model.fit(X_train, y_train)\n",
    "\n",
    "# Making predictions on the test data\n",
    "y_pred_svm = assign_custom_label(X_test, svm_model.predict(X_test), requirement_words)\n",
    "\n",
    "# Model evaluation\n",
    "print(\"Support Vector Machine (SVM) Results:\")\n",
    "print(classification_report(y_test, y_pred_svm))"
   ]
  },
  {
   "cell_type": "code",
   "execution_count": 13,
   "metadata": {},
   "outputs": [
    {
     "data": {
      "image/png": "[encoded data removed]",
      "text/plain": [
       "<Figure size 640x480 with 2 Axes>"
      ]
     },
     "metadata": {},
     "output_type": "display_data"
    }
   ],
   "source": [
    "# computing the confusion matrix\n",
    "cm = confusion_matrix(y_test, y_pred_svm)\n",
    "\n",
    "# creating a heatmap\n",
    "plt.figure()\n",
    "label_names = list(svm_model.classes_)\n",
    "sns.heatmap(cm, annot=True, fmt='d', xticklabels = label_names, yticklabels = label_names)\n",
    "plt.xlabel('Predicted')\n",
    "plt.ylabel('Truth')\n",
    "plt.show()"
   ]
  },
  {
   "cell_type": "code",
   "execution_count": 14,
   "metadata": {},
   "outputs": [
    {
     "name": "stdout",
     "output_type": "stream",
     "text": [
      "Top 30 Most Important Words:\n",
      "fuel: -2.3702147894340633\n",
      "implementing: -1.7321465620360077\n",
      "congestion: 1.727478106228086\n",
      "identify: 1.6888639026831351\n",
      "occlocal: -1.6321834564625313\n",
      "formal: 1.608733017636295\n",
      "achievement: 1.5655917966823183\n",
      "vii: 1.5432445705675737\n",
      "identifies: 1.5144070584142955\n",
      "develop: 1.514350818235693\n",
      "layout: 1.4989570349237085\n",
      "stipulates: -1.4964495294897548\n",
      "lan: -1.478705919584321\n",
      "traceability: 1.4664394532624816\n",
      "satisfying: -1.4600885132004342\n",
      "approx: -1.4530977276289327\n",
      "sqm: 1.450328719492369\n",
      "send: 1.4422802069214387\n",
      "describes: -1.435507984763455\n",
      "equipments: 1.4312905115601917\n",
      "imposing: -1.4299296054560915\n",
      "gpp: 1.4226151491335866\n",
      "appendixn: -1.4145282904666612\n",
      "possession: -1.414324771516557\n",
      "ues: 1.4121630239924525\n",
      "days: 1.3966216901538622\n",
      "seek: -1.396605116808529\n",
      "bushing: -1.3948385826299685\n",
      "potentially: -1.3879491101169723\n",
      "earned: -1.3806051231647563\n"
     ]
    }
   ],
   "source": [
    "# Geting the coefficients from the trained linear model\n",
    "coefficients = svm_model.coef_[0]\n",
    "\n",
    "# Geting the list of words (features) from the CountVectorizer\n",
    "words = vectorizer.get_feature_names_out()\n",
    "\n",
    "# Creating a list of (word, coefficient) pairs and sort them based on the absolute coefficient values\n",
    "word_coefficient_pairs = list(zip(words, coefficients))\n",
    "word_coefficient_pairs.sort(key=lambda x: abs(x[1]), reverse=True)\n",
    "\n",
    "# Printing the top 30 most important words\n",
    "print(\"Top 30 Most Important Words:\")\n",
    "for word, coefficient in word_coefficient_pairs[:30]:\n",
    "    print(f\"{word}: {coefficient}\")"
   ]
  },
  {
   "cell_type": "markdown",
   "metadata": {},
   "source": [
    "### Random Forest"
   ]
  },
  {
   "cell_type": "code",
   "execution_count": 21,
   "metadata": {},
   "outputs": [
    {
     "name": "stdout",
     "output_type": "stream",
     "text": [
      "Random Forest Classifier Results:\n",
      "              precision    recall  f1-score   support\n",
      "\n",
      "           0       0.70      0.64      0.67       735\n",
      "           1       0.85      0.88      0.87      1706\n",
      "\n",
      "    accuracy                           0.81      2441\n",
      "   macro avg       0.77      0.76      0.77      2441\n",
      "weighted avg       0.80      0.81      0.81      2441\n",
      "\n"
     ]
    }
   ],
   "source": [
    "from sklearn.ensemble import RandomForestClassifier\n",
    "from sklearn.metrics import classification_report\n",
    "\n",
    "# Creating and train the Random Forest classifier\n",
    "rf_model = RandomForestClassifier(class_weight = class_weights, \\\n",
    "                                  n_estimators=100, random_state=42)\n",
    "rf_model.fit(X_train, y_train)\n",
    "\n",
    "# Making predictions on the test data\n",
    "y_pred_rf = assign_custom_label(X_test, rf_model.predict(X_test), requirement_words)\n",
    "\n",
    "# Model evaluation\n",
    "print(\"Random Forest Classifier Results:\")\n",
    "print(classification_report(y_test, y_pred_rf))"
   ]
  },
  {
   "cell_type": "code",
   "execution_count": 22,
   "metadata": {},
   "outputs": [
    {
     "data": {
      "image/png": "[encoded data removed]",
      "text/plain": [
       "<Figure size 640x480 with 2 Axes>"
      ]
     },
     "metadata": {},
     "output_type": "display_data"
    }
   ],
   "source": [
    "# computing the confusion matrix\n",
    "cm = confusion_matrix(y_test, y_pred_rf)\n",
    "\n",
    "# creating a heatmap\n",
    "plt.figure()\n",
    "label_names = list(rf_model.classes_)\n",
    "sns.heatmap(cm, annot=True, fmt='d', xticklabels = label_names, yticklabels = label_names)\n",
    "plt.xlabel('Predicted')\n",
    "plt.ylabel('Truth')\n",
    "plt.show()"
   ]
  },
  {
   "cell_type": "code",
   "execution_count": 23,
   "metadata": {},
   "outputs": [
    {
     "name": "stdout",
     "output_type": "stream",
     "text": [
      "Top 30 Most Important Words:\n",
      "shall: 0.06149546858303663\n",
      "contractor: 0.007550938153936839\n",
      "train: 0.005668401068153572\n",
      "provide: 0.005638738731229927\n",
      "general: 0.0050296032955233876\n",
      "equipment: 0.0049878321403601985\n",
      "including: 0.004935224497293421\n",
      "test: 0.00485455047990204\n",
      "ertmsetcs: 0.004850720892875114\n",
      "following: 0.004800744517753834\n",
      "support: 0.00454237681994672\n",
      "design: 0.004467841171519226\n",
      "required: 0.004050558582057147\n",
      "point: 0.003663930384421362\n",
      "management: 0.0034698715470567864\n",
      "used: 0.0034349503518922913\n",
      "signal: 0.0033388267969791043\n",
      "requirements: 0.0032292219717465196\n",
      "tests: 0.0031732039017095285\n",
      "iii: 0.003050660572739488\n",
      "time: 0.0028636482756833957\n",
      "engineer: 0.0028094851736145533\n",
      "control: 0.0028023449477045403\n",
      "number: 0.0027149085343015538\n",
      "include: 0.002703522306802192\n",
      "plan: 0.0026637341693639166\n",
      "cables: 0.002634529274950491\n",
      "all_: 0.002631249081655926\n",
      "eng: 0.0025408625646147066\n",
      "employers: 0.00250145950973175\n"
     ]
    }
   ],
   "source": [
    "# Geting the feature importances from the trained Random Forest model\n",
    "feature_importances = rf_model.feature_importances_\n",
    "\n",
    "# Geting the list of words (features) from the CountVectorizer\n",
    "words = vectorizer.get_feature_names_out()\n",
    "\n",
    "# Creating a list of (word, importance) pairs and sort them based on the importance values\n",
    "word_importance_pairs = list(zip(words, feature_importances))\n",
    "word_importance_pairs.sort(key=lambda x: x[1], reverse=True)\n",
    "\n",
    "# Printing the top 30 most important words\n",
    "print(\"Top 30 Most Important Words:\")\n",
    "for word, importance in word_importance_pairs[:30]:\n",
    "    print(f\"{word}: {importance}\")"
   ]
  },
  {
   "cell_type": "markdown",
   "metadata": {},
   "source": [
    "### Multinomial Naive Bayes"
   ]
  },
  {
   "cell_type": "code",
   "execution_count": 25,
   "metadata": {},
   "outputs": [
    {
     "name": "stdout",
     "output_type": "stream",
     "text": [
      "Multinomial Naive Bayes Results:\n",
      "              precision    recall  f1-score   support\n",
      "\n",
      "           0       0.61      0.58      0.59       735\n",
      "           1       0.82      0.84      0.83      1706\n",
      "\n",
      "    accuracy                           0.76      2441\n",
      "   macro avg       0.72      0.71      0.71      2441\n",
      "weighted avg       0.76      0.76      0.76      2441\n",
      "\n"
     ]
    }
   ],
   "source": [
    "from sklearn.naive_bayes import MultinomialNB\n",
    "from sklearn.metrics import classification_report\n",
    "\n",
    "# Calculating sample weights based on class distribution\n",
    "sample_weights = np.where(y_train == 0, weight_for_class_0, weight_for_class_1)\n",
    "\n",
    "# Creating and training the Naive Bayes classifier with sample weights\n",
    "nb_model = MultinomialNB()\n",
    "nb_model.fit(X_train, y_train, sample_weight=sample_weights)\n",
    "\n",
    "# Making predictions on the test data\n",
    "y_pred_nb = assign_custom_label(X_test, nb_model.predict(X_test), requirement_words)\n",
    "\n",
    "# Model evaluation\n",
    "print(\"Multinomial Naive Bayes Results:\")\n",
    "print(classification_report(y_test, y_pred_nb))"
   ]
  },
  {
   "cell_type": "code",
   "execution_count": 28,
   "metadata": {},
   "outputs": [
    {
     "data": {
      "image/png": "[encoded data removed]",
      "text/plain": [
       "<Figure size 640x480 with 2 Axes>"
      ]
     },
     "metadata": {},
     "output_type": "display_data"
    }
   ],
   "source": [
    "# computing the confusion matrix\n",
    "cm = confusion_matrix(y_test, y_pred_nb)\n",
    "\n",
    "# creating a heatmap\n",
    "plt.figure()\n",
    "label_names = list(nb_model.classes_)\n",
    "sns.heatmap(cm, annot=True, fmt='d', xticklabels = label_names, yticklabels = label_names)\n",
    "plt.xlabel('Predicted')\n",
    "plt.ylabel('Truth')\n",
    "plt.show()"
   ]
  },
  {
   "cell_type": "markdown",
   "metadata": {},
   "source": [
    "### Metamodel: voting classifier"
   ]
  },
  {
   "cell_type": "code",
   "execution_count": 42,
   "metadata": {},
   "outputs": [
    {
     "name": "stderr",
     "output_type": "stream",
     "text": [
      "/home/riccardo/miniconda3/envs/alstom/lib/python3.10/site-packages/sklearn/linear_model/_logistic.py:458: ConvergenceWarning: lbfgs failed to converge (status=1):\n",
      "STOP: TOTAL NO. of ITERATIONS REACHED LIMIT.\n",
      "\n",
      "Increase the number of iterations (max_iter) or scale the data as shown in:\n",
      "    https://scikit-learn.org/stable/modules/preprocessing.html\n",
      "Please also refer to the documentation for alternative solver options:\n",
      "    https://scikit-learn.org/stable/modules/linear_model.html#logistic-regression\n",
      "  n_iter_i = _check_optimize_result(\n",
      "/home/riccardo/miniconda3/envs/alstom/lib/python3.10/site-packages/sklearn/svm/_base.py:1244: ConvergenceWarning: Liblinear failed to converge, increase the number of iterations.\n",
      "  warnings.warn(\n"
     ]
    },
    {
     "data": {
      "text/html": [
       "<style>#sk-container-id-5 {color: black;background-color: white;}#sk-container-id-5 pre{padding: 0;}#sk-container-id-5 div.sk-toggleable {background-color: white;}#sk-container-id-5 label.sk-toggleable__label {cursor: pointer;display: block;width: 100%;margin-bottom: 0;padding: 0.3em;box-sizing: border-box;text-align: center;}#sk-container-id-5 label.sk-toggleable__label-arrow:before {content: \"▸\";float: left;margin-right: 0.25em;color: #696969;}#sk-container-id-5 label.sk-toggleable__label-arrow:hover:before {color: black;}#sk-container-id-5 div.sk-estimator:hover label.sk-toggleable__label-arrow:before {color: black;}#sk-container-id-5 div.sk-toggleable__content {max-height: 0;max-width: 0;overflow: hidden;text-align: left;background-color: #f0f8ff;}#sk-container-id-5 div.sk-toggleable__content pre {margin: 0.2em;color: black;border-radius: 0.25em;background-color: #f0f8ff;}#sk-container-id-5 input.sk-toggleable__control:checked~div.sk-toggleable__content {max-height: 200px;max-width: 100%;overflow: auto;}#sk-container-id-5 input.sk-toggleable__control:checked~label.sk-toggleable__label-arrow:before {content: \"▾\";}#sk-container-id-5 div.sk-estimator input.sk-toggleable__control:checked~label.sk-toggleable__label {background-color: #d4ebff;}#sk-container-id-5 div.sk-label input.sk-toggleable__control:checked~label.sk-toggleable__label {background-color: #d4ebff;}#sk-container-id-5 input.sk-hidden--visually {border: 0;clip: rect(1px 1px 1px 1px);clip: rect(1px, 1px, 1px, 1px);height: 1px;margin: -1px;overflow: hidden;padding: 0;position: absolute;width: 1px;}#sk-container-id-5 div.sk-estimator {font-family: monospace;background-color: #f0f8ff;border: 1px dotted black;border-radius: 0.25em;box-sizing: border-box;margin-bottom: 0.5em;}#sk-container-id-5 div.sk-estimator:hover {background-color: #d4ebff;}#sk-container-id-5 div.sk-parallel-item::after {content: \"\";width: 100%;border-bottom: 1px solid gray;flex-grow: 1;}#sk-container-id-5 div.sk-label:hover label.sk-toggleable__label {background-color: #d4ebff;}#sk-container-id-5 div.sk-serial::before {content: \"\";position: absolute;border-left: 1px solid gray;box-sizing: border-box;top: 0;bottom: 0;left: 50%;z-index: 0;}#sk-container-id-5 div.sk-serial {display: flex;flex-direction: column;align-items: center;background-color: white;padding-right: 0.2em;padding-left: 0.2em;position: relative;}#sk-container-id-5 div.sk-item {position: relative;z-index: 1;}#sk-container-id-5 div.sk-parallel {display: flex;align-items: stretch;justify-content: center;background-color: white;position: relative;}#sk-container-id-5 div.sk-item::before, #sk-container-id-5 div.sk-parallel-item::before {content: \"\";position: absolute;border-left: 1px solid gray;box-sizing: border-box;top: 0;bottom: 0;left: 50%;z-index: -1;}#sk-container-id-5 div.sk-parallel-item {display: flex;flex-direction: column;z-index: 1;position: relative;background-color: white;}#sk-container-id-5 div.sk-parallel-item:first-child::after {align-self: flex-end;width: 50%;}#sk-container-id-5 div.sk-parallel-item:last-child::after {align-self: flex-start;width: 50%;}#sk-container-id-5 div.sk-parallel-item:only-child::after {width: 0;}#sk-container-id-5 div.sk-dashed-wrapped {border: 1px dashed gray;margin: 0 0.4em 0.5em 0.4em;box-sizing: border-box;padding-bottom: 0.4em;background-color: white;}#sk-container-id-5 div.sk-label label {font-family: monospace;font-weight: bold;display: inline-block;line-height: 1.2em;}#sk-container-id-5 div.sk-label-container {text-align: center;}#sk-container-id-5 div.sk-container {/* jupyter's `normalize.less` sets `[hidden] { display: none; }` but bootstrap.min.css set `[hidden] { display: none !important; }` so we also need the `!important` here to be able to override the default hidden behavior on the sphinx rendered scikit-learn.org. See: https://github.com/scikit-learn/scikit-learn/issues/21755 */display: inline-block !important;position: relative;}#sk-container-id-5 div.sk-text-repr-fallback {display: none;}</style><div id=\"sk-container-id-5\" class=\"sk-top-container\"><div class=\"sk-text-repr-fallback\"><pre>VotingClassifier(estimators=[(&#x27;logistic_regression&#x27;,\n",
       "                              LogisticRegression(class_weight={0: 1.6706023271731691,\n",
       "                                                               1: 0.713565268235638})),\n",
       "                             (&#x27;support_vector_machines&#x27;,\n",
       "                              LinearSVC(class_weight={0: 1.6706023271731691,\n",
       "                                                      1: 0.713565268235638})),\n",
       "                             (&#x27;random_forest&#x27;,\n",
       "                              RandomForestClassifier(class_weight={0: 1.6706023271731691,\n",
       "                                                                   1: 0.713565268235638},\n",
       "                                                     random_state=42)),\n",
       "                             (&#x27;multinomial_naive_bayes&#x27;, MultinomialNB())])</pre><b>In a Jupyter environment, please rerun this cell to show the HTML representation or trust the notebook. <br />On GitHub, the HTML representation is unable to render, please try loading this page with nbviewer.org.</b></div><div class=\"sk-container\" hidden><div class=\"sk-item sk-dashed-wrapped\"><div class=\"sk-label-container\"><div class=\"sk-label sk-toggleable\"><input class=\"sk-toggleable__control sk-hidden--visually\" id=\"sk-estimator-id-21\" type=\"checkbox\" ><label for=\"sk-estimator-id-21\" class=\"sk-toggleable__label sk-toggleable__label-arrow\">VotingClassifier</label><div class=\"sk-toggleable__content\"><pre>VotingClassifier(estimators=[(&#x27;logistic_regression&#x27;,\n",
       "                              LogisticRegression(class_weight={0: 1.6706023271731691,\n",
       "                                                               1: 0.713565268235638})),\n",
       "                             (&#x27;support_vector_machines&#x27;,\n",
       "                              LinearSVC(class_weight={0: 1.6706023271731691,\n",
       "                                                      1: 0.713565268235638})),\n",
       "                             (&#x27;random_forest&#x27;,\n",
       "                              RandomForestClassifier(class_weight={0: 1.6706023271731691,\n",
       "                                                                   1: 0.713565268235638},\n",
       "                                                     random_state=42)),\n",
       "                             (&#x27;multinomial_naive_bayes&#x27;, MultinomialNB())])</pre></div></div></div><div class=\"sk-parallel\"><div class=\"sk-parallel-item\"><div class=\"sk-item\"><div class=\"sk-label-container\"><div class=\"sk-label sk-toggleable\"><label>logistic_regression</label></div></div><div class=\"sk-serial\"><div class=\"sk-item\"><div class=\"sk-estimator sk-toggleable\"><input class=\"sk-toggleable__control sk-hidden--visually\" id=\"sk-estimator-id-22\" type=\"checkbox\" ><label for=\"sk-estimator-id-22\" class=\"sk-toggleable__label sk-toggleable__label-arrow\">LogisticRegression</label><div class=\"sk-toggleable__content\"><pre>LogisticRegression(class_weight={0: 1.6706023271731691, 1: 0.713565268235638})</pre></div></div></div></div></div></div><div class=\"sk-parallel-item\"><div class=\"sk-item\"><div class=\"sk-label-container\"><div class=\"sk-label sk-toggleable\"><label>support_vector_machines</label></div></div><div class=\"sk-serial\"><div class=\"sk-item\"><div class=\"sk-estimator sk-toggleable\"><input class=\"sk-toggleable__control sk-hidden--visually\" id=\"sk-estimator-id-23\" type=\"checkbox\" ><label for=\"sk-estimator-id-23\" class=\"sk-toggleable__label sk-toggleable__label-arrow\">LinearSVC</label><div class=\"sk-toggleable__content\"><pre>LinearSVC(class_weight={0: 1.6706023271731691, 1: 0.713565268235638})</pre></div></div></div></div></div></div><div class=\"sk-parallel-item\"><div class=\"sk-item\"><div class=\"sk-label-container\"><div class=\"sk-label sk-toggleable\"><label>random_forest</label></div></div><div class=\"sk-serial\"><div class=\"sk-item\"><div class=\"sk-estimator sk-toggleable\"><input class=\"sk-toggleable__control sk-hidden--visually\" id=\"sk-estimator-id-24\" type=\"checkbox\" ><label for=\"sk-estimator-id-24\" class=\"sk-toggleable__label sk-toggleable__label-arrow\">RandomForestClassifier</label><div class=\"sk-toggleable__content\"><pre>RandomForestClassifier(class_weight={0: 1.6706023271731691,\n",
       "                                     1: 0.713565268235638},\n",
       "                       random_state=42)</pre></div></div></div></div></div></div><div class=\"sk-parallel-item\"><div class=\"sk-item\"><div class=\"sk-label-container\"><div class=\"sk-label sk-toggleable\"><label>multinomial_naive_bayes</label></div></div><div class=\"sk-serial\"><div class=\"sk-item\"><div class=\"sk-estimator sk-toggleable\"><input class=\"sk-toggleable__control sk-hidden--visually\" id=\"sk-estimator-id-25\" type=\"checkbox\" ><label for=\"sk-estimator-id-25\" class=\"sk-toggleable__label sk-toggleable__label-arrow\">MultinomialNB</label><div class=\"sk-toggleable__content\"><pre>MultinomialNB()</pre></div></div></div></div></div></div></div></div></div></div>"
      ],
      "text/plain": [
       "VotingClassifier(estimators=[('logistic_regression',\n",
       "                              LogisticRegression(class_weight={0: 1.6706023271731691,\n",
       "                                                               1: 0.713565268235638})),\n",
       "                             ('support_vector_machines',\n",
       "                              LinearSVC(class_weight={0: 1.6706023271731691,\n",
       "                                                      1: 0.713565268235638})),\n",
       "                             ('random_forest',\n",
       "                              RandomForestClassifier(class_weight={0: 1.6706023271731691,\n",
       "                                                                   1: 0.713565268235638},\n",
       "                                                     random_state=42)),\n",
       "                             ('multinomial_naive_bayes', MultinomialNB())])"
      ]
     },
     "execution_count": 42,
     "metadata": {},
     "output_type": "execute_result"
    }
   ],
   "source": [
    "from sklearn.ensemble import VotingClassifier\n",
    "voting_clf = VotingClassifier(\n",
    "    estimators=[\n",
    "        ('logistic_regression', log_reg),\n",
    "        ('support_vector_machines', svm_model),\n",
    "        ('random_forest', rf_model),\n",
    "        ('multinomial_naive_bayes', nb_model),\n",
    "    ],\n",
    "    voting='hard' \n",
    ")\n",
    "\n",
    "voting_clf.fit(X_train, y_train)"
   ]
  },
  {
   "cell_type": "code",
   "execution_count": 43,
   "metadata": {},
   "outputs": [
    {
     "name": "stdout",
     "output_type": "stream",
     "text": [
      "              precision    recall  f1-score   support\n",
      "\n",
      "           0       0.60      0.78      0.68       735\n",
      "           1       0.89      0.78      0.83      1706\n",
      "\n",
      "    accuracy                           0.78      2441\n",
      "   macro avg       0.75      0.78      0.75      2441\n",
      "weighted avg       0.80      0.78      0.78      2441\n",
      "\n"
     ]
    }
   ],
   "source": [
    "# making predictions on the test data\n",
    "y_pred_voting = assign_custom_label(X_test, voting_clf.predict(X_test), requirement_words)\n",
    "\n",
    "# model evaluation\n",
    "print(classification_report(y_test, y_pred_voting))"
   ]
  },
  {
   "cell_type": "code",
   "execution_count": 44,
   "metadata": {},
   "outputs": [
    {
     "data": {
      "image/png": "[encoded data removed]",
      "text/plain": [
       "<Figure size 640x480 with 2 Axes>"
      ]
     },
     "metadata": {},
     "output_type": "display_data"
    }
   ],
   "source": [
    "# computing the confusion matrix\n",
    "cm = confusion_matrix(y_test, y_pred_voting)\n",
    "\n",
    "# creating a heatmap\n",
    "plt.figure()\n",
    "label_names = list(voting_clf.classes_)\n",
    "sns.heatmap(cm, annot=True, fmt='d', xticklabels = label_names, yticklabels = label_names)\n",
    "plt.xlabel('Predicted')\n",
    "plt.ylabel('Truth')\n",
    "plt.show()"
   ]
  },
  {
   "cell_type": "markdown",
   "metadata": {},
   "source": [
    "### Saving the Metamodel"
   ]
  },
  {
   "cell_type": "code",
   "execution_count": 48,
   "metadata": {},
   "outputs": [
    {
     "data": {
      "text/plain": [
       "['metamodel.pkl']"
      ]
     },
     "execution_count": 48,
     "metadata": {},
     "output_type": "execute_result"
    }
   ],
   "source": [
    "from joblib import dump, load\n",
    "dump(voting_clf, 'metamodel.pkl')\n",
    "# use metamodel = joblib.load('metamodel.pkl') to reuse the trained model"
   ]
  }
 ],
 "metadata": {
  "colab": {
   "gpuType": "T4",
   "provenance": []
  },
  "gpuClass": "standard",
  "kernelspec": {
   "display_name": "Python 3 (ipykernel)",
   "language": "python",
   "name": "python3"
  },
  "language_info": {
   "codemirror_mode": {
    "name": "ipython",
    "version": 3
   },
   "file_extension": ".py",
   "mimetype": "text/x-python",
   "name": "python",
   "nbconvert_exporter": "python",
   "pygments_lexer": "ipython3",
   "version": "3.10.11"
  }
 },
 "nbformat": 4,
 "nbformat_minor": 1
}
